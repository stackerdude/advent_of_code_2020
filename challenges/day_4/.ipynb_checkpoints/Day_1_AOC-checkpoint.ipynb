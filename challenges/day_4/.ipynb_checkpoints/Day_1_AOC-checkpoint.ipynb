{
 "cells": [
  {
   "cell_type": "markdown",
   "metadata": {},
   "source": [
    "# Day 4 - Advent of Code 2020"
   ]
  },
  {
   "cell_type": "markdown",
   "metadata": {},
   "source": [
    "### Part 1"
   ]
  },
  {
   "cell_type": "markdown",
   "metadata": {},
   "source": [
    "First we need to load in our data. We are just going to use a txt file for this"
   ]
  },
  {
   "cell_type": "code",
   "execution_count": 1,
   "metadata": {},
   "outputs": [],
   "source": [
    "fh = open('data.txt', 'r')"
   ]
  },
  {
   "cell_type": "markdown",
   "metadata": {},
   "source": [
    "Load the data into an array"
   ]
  },
  {
   "cell_type": "code",
   "execution_count": 2,
   "metadata": {},
   "outputs": [],
   "source": [
    "data = [x for x in fh.readlines()]"
   ]
  },
  {
   "cell_type": "code",
   "execution_count": 3,
   "metadata": {},
   "outputs": [
    {
     "data": {
      "text/plain": [
       "['pid:221225902 cid:61 hgt:186cm eyr:2021 hcl:#7d3b0c\\n',\n",
       " '\\n',\n",
       " 'hcl:#efcc98 hgt:178 pid:433543520\\n',\n",
       " 'eyr:2020 byr:1926\\n',\n",
       " 'ecl:blu cid:92\\n',\n",
       " 'iyr:2010\\n',\n",
       " '\\n',\n",
       " 'iyr:2018\\n',\n",
       " 'eyr:2026\\n']"
      ]
     },
     "execution_count": 3,
     "metadata": {},
     "output_type": "execute_result"
    }
   ],
   "source": [
    "data[1:10]"
   ]
  },
  {
   "cell_type": "markdown",
   "metadata": {},
   "source": [
    "So in order to work with this data, we need to create each passport record. In the current format, multiple elements of the array represent a singel record, we need to merge them so that one element represent all the information we have for that passport"
   ]
  },
  {
   "cell_type": "code",
   "execution_count": 14,
   "metadata": {},
   "outputs": [],
   "source": [
    "from typing import List\n",
    "def merge_passport_data(data:List[int]):\n",
    "    current_passport = ''\n",
    "    all_passports = []\n",
    "    for (idx, x) in enumerate(data):\n",
    "        if x == '\\n':\n",
    "            all_passports.append(current_passport)\n",
    "            current_passport = ''\n",
    "            \n",
    "        else:\n",
    "            current_passport += \" \" + x.strip('\\n')\n",
    "    return all_passports\n",
    "            "
   ]
  },
  {
   "cell_type": "code",
   "execution_count": 15,
   "metadata": {},
   "outputs": [],
   "source": [
    "passports  = merge_passport_data(data)"
   ]
  },
  {
   "cell_type": "code",
   "execution_count": 25,
   "metadata": {},
   "outputs": [
    {
     "data": {
      "text/plain": [
       "' ecl:hzl byr:1926 iyr:2010 pid:221225902 cid:61 hgt:186cm eyr:2021 hcl:#7d3b0c'"
      ]
     },
     "execution_count": 25,
     "metadata": {},
     "output_type": "execute_result"
    }
   ],
   "source": [
    "passports[0]"
   ]
  },
  {
   "cell_type": "markdown",
   "metadata": {},
   "source": [
    "Now we need to write a validate function that will make sure that all the keys exist, this can be done simply as follows"
   ]
  },
  {
   "cell_type": "code",
   "execution_count": 17,
   "metadata": {},
   "outputs": [],
   "source": [
    "def validate(passport) -> bool:\n",
    "    mandatory_fields = ['byr','iyr','eyr', 'hgt', 'hcl' ,'ecl','pid']\n",
    "    for field in mandatory_fields:\n",
    "        if field not in passport:\n",
    "            return False\n",
    "    return True"
   ]
  },
  {
   "cell_type": "code",
   "execution_count": 18,
   "metadata": {},
   "outputs": [],
   "source": [
    "valid_passport = [validate(x) for x in passports]"
   ]
  },
  {
   "cell_type": "code",
   "execution_count": 20,
   "metadata": {},
   "outputs": [
    {
     "data": {
      "text/plain": [
       "237"
      ]
     },
     "execution_count": 20,
     "metadata": {},
     "output_type": "execute_result"
    }
   ],
   "source": [
    "sum(valid_passport)"
   ]
  },
  {
   "cell_type": "markdown",
   "metadata": {},
   "source": [
    "### Part 2"
   ]
  },
  {
   "cell_type": "markdown",
   "metadata": {},
   "source": [
    "Okay, i was too lazy in the part 1 and now i am paying for it. What i should have done was create a data model that i could map each passport into. This would have made part 2 easy, guess i have to do it now. To do this i will just use a simpe data class"
   ]
  },
  {
   "cell_type": "code",
   "execution_count": 24,
   "metadata": {},
   "outputs": [],
   "source": [
    "from dataclasses import dataclass\n",
    "\n",
    "@dataclass\n",
    "class Passport:\n",
    "    byr: int\n",
    "    iyr: int\n",
    "    eyr: int\n",
    "    hgt: str\n",
    "    hcl: str\n",
    "    ecl: str\n",
    "    pid: str\n",
    "    cid: str"
   ]
  },
  {
   "cell_type": "code",
   "execution_count": 100,
   "metadata": {},
   "outputs": [],
   "source": [
    "import re\n",
    "x = ' ecl:hzl byr:1926 iyr:2010 pid:221225902 cid:61 hgt:186cm eyr:2021 hcl:#7d3b0c'\n",
    "def get_text_after_regex(element_key, data_string):\n",
    "    regex = f' {element_key}:(.+?) .*'\n",
    "    matchObject = re.search(regex, data_string)\n",
    "    if matchObject\n",
    "        return matchObject.group(1)\n",
    "    else:\n",
    "        return None\n",
    "\n",
    "\n",
    "def generate_passport(passport_string):\n",
    "    fields = ['byr','iyr','eyr', 'hgt', 'hcl' ,'ecl','pid', '']\n"
   ]
  },
  {
   "cell_type": "code",
   "execution_count": 101,
   "metadata": {},
   "outputs": [
    {
     "data": {
      "text/plain": [
       "'hzl'"
      ]
     },
     "execution_count": 101,
     "metadata": {},
     "output_type": "execute_result"
    }
   ],
   "source": [
    "get_text_after_regex('ecl', x)"
   ]
  },
  {
   "cell_type": "markdown",
   "metadata": {},
   "source": [
    "len(set([idj, idk, idl])) == 3)"
   ]
  }
 ],
 "metadata": {
  "kernelspec": {
   "display_name": "Python 3",
   "language": "python",
   "name": "python3"
  },
  "language_info": {
   "codemirror_mode": {
    "name": "ipython",
    "version": 3
   },
   "file_extension": ".py",
   "mimetype": "text/x-python",
   "name": "python",
   "nbconvert_exporter": "python",
   "pygments_lexer": "ipython3",
   "version": "3.8.2"
  }
 },
 "nbformat": 4,
 "nbformat_minor": 2
}
