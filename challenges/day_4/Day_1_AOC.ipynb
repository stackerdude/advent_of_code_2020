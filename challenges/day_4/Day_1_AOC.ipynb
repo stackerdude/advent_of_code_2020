{
 "cells": [
  {
   "cell_type": "markdown",
   "metadata": {},
   "source": [
    "# Day 4 - Advent of Code 2020"
   ]
  },
  {
   "cell_type": "markdown",
   "metadata": {},
   "source": [
    "### Part 1"
   ]
  },
  {
   "cell_type": "markdown",
   "metadata": {},
   "source": [
    "First we need to load in our data. We are just going to use a txt file for this"
   ]
  },
  {
   "cell_type": "code",
   "execution_count": 15,
   "metadata": {},
   "outputs": [],
   "source": [
    "fh = open('data.txt', 'r')"
   ]
  },
  {
   "cell_type": "markdown",
   "metadata": {},
   "source": [
    "Load the data into an array"
   ]
  },
  {
   "cell_type": "code",
   "execution_count": 16,
   "metadata": {},
   "outputs": [],
   "source": [
    "data = [x for x in fh.readlines()]"
   ]
  },
  {
   "cell_type": "code",
   "execution_count": 17,
   "metadata": {},
   "outputs": [
    {
     "data": {
      "text/plain": [
       "['pid:221225902 cid:61 hgt:186cm eyr:2021 hcl:#7d3b0c\\n',\n",
       " '\\n',\n",
       " 'hcl:#efcc98 hgt:178 pid:433543520\\n',\n",
       " 'eyr:2020 byr:1926\\n',\n",
       " 'ecl:blu cid:92\\n',\n",
       " 'iyr:2010\\n',\n",
       " '\\n',\n",
       " 'iyr:2018\\n',\n",
       " 'eyr:2026\\n']"
      ]
     },
     "execution_count": 17,
     "metadata": {},
     "output_type": "execute_result"
    }
   ],
   "source": [
    "data[1:10]"
   ]
  },
  {
   "cell_type": "markdown",
   "metadata": {},
   "source": [
    "So in order to work with this data, we need to create each passport record. In the current format, multiple elements of the array represent a singel record, we need to merge them so that one element represent all the information we have for that passport"
   ]
  },
  {
   "cell_type": "code",
   "execution_count": 18,
   "metadata": {},
   "outputs": [],
   "source": [
    "from typing import List\n",
    "def merge_passport_data(data:List[int]):\n",
    "    current_passport = ''\n",
    "    all_passports = []\n",
    "    for (idx, x) in enumerate(data):\n",
    "        if x == '\\n':\n",
    "            all_passports.append(current_passport)\n",
    "            current_passport = ''\n",
    "            \n",
    "        else:\n",
    "            current_passport += \" \" + x.strip('\\n') + ' '\n",
    "    return all_passports\n",
    "            "
   ]
  },
  {
   "cell_type": "code",
   "execution_count": 19,
   "metadata": {},
   "outputs": [],
   "source": [
    "passports  = merge_passport_data(data)"
   ]
  },
  {
   "cell_type": "code",
   "execution_count": 20,
   "metadata": {},
   "outputs": [
    {
     "data": {
      "text/plain": [
       "' ecl:hzl byr:1926 iyr:2010  pid:221225902 cid:61 hgt:186cm eyr:2021 hcl:#7d3b0c '"
      ]
     },
     "execution_count": 20,
     "metadata": {},
     "output_type": "execute_result"
    }
   ],
   "source": [
    "passports[0]"
   ]
  },
  {
   "cell_type": "markdown",
   "metadata": {},
   "source": [
    "Now we need to write a validate function that will make sure that all the keys exist, this can be done simply as follows"
   ]
  },
  {
   "cell_type": "code",
   "execution_count": 21,
   "metadata": {},
   "outputs": [],
   "source": [
    "def validate(passport) -> bool:\n",
    "    mandatory_fields = ['byr','iyr','eyr', 'hgt', 'hcl' ,'ecl','pid']\n",
    "    for field in mandatory_fields:\n",
    "        if field not in passport:\n",
    "            return False\n",
    "    return True"
   ]
  },
  {
   "cell_type": "code",
   "execution_count": 22,
   "metadata": {},
   "outputs": [],
   "source": [
    "valid_passport = [validate(x) for x in passports]"
   ]
  },
  {
   "cell_type": "code",
   "execution_count": 23,
   "metadata": {},
   "outputs": [
    {
     "data": {
      "text/plain": [
       "237"
      ]
     },
     "execution_count": 23,
     "metadata": {},
     "output_type": "execute_result"
    }
   ],
   "source": [
    "sum(valid_passport)"
   ]
  },
  {
   "cell_type": "markdown",
   "metadata": {},
   "source": [
    "### Part 2"
   ]
  },
  {
   "cell_type": "markdown",
   "metadata": {},
   "source": [
    "Okay, i was too lazy in the part 1 and now i am paying for it. What i should have done was create a data model that i could map each passport into. This would have made part 2 easy, guess i have to do it now. To do this i will just use a simpe data class"
   ]
  },
  {
   "cell_type": "code",
   "execution_count": 24,
   "metadata": {},
   "outputs": [],
   "source": [
    "from dataclasses import dataclass\n",
    "\n",
    "@dataclass\n",
    "class Passport:\n",
    "    def __getitem__(cls, x):\n",
    "        return getattr(cls, x)\n",
    "    byr: int\n",
    "    iyr: int\n",
    "    eyr: int\n",
    "    hgt: str\n",
    "    hcl: str\n",
    "    ecl: str\n",
    "    pid: str\n",
    "    cid: str"
   ]
  },
  {
   "cell_type": "code",
   "execution_count": 47,
   "metadata": {},
   "outputs": [],
   "source": [
    "import re\n",
    "def get_text_after_regex(element_key, data_string):\n",
    "    regex = f' {element_key}:(.+?) .*'\n",
    "    matchObject = re.search(regex, data_string)\n",
    "    if matchObject:\n",
    "        return matchObject.group(1)\n",
    "    else:\n",
    "        return None\n",
    "\n",
    "\n",
    "def generate_passport(passport_string):\n",
    "    fields = ['byr','iyr','eyr', 'hgt', 'hcl' ,'ecl','pid', 'cid']\n",
    "    parsed_data = {k:get_text_after_regex(k, passport_string) for k in fields}\n",
    "    return Passport(**parsed_data)\n",
    "\n",
    "\n",
    "\n",
    "def validate_passport(passport: Passport) -> bool:\n",
    "#     Make sure all fields exist\n",
    "    mandatory_fields = ['byr','iyr','eyr', 'hgt', 'hcl' ,'ecl','pid']\n",
    "    for field in mandatory_fields:\n",
    "        if passport[field] == None:\n",
    "            print(field)\n",
    "            return False\n",
    "#     byr (Birth Year) - four digits; at least 1920 and at most 2002.\n",
    "    if len(passport.byr) != 4 and not (1920 < passport.byr < 2002):\n",
    "        return False\n",
    "    if len(passport.iyr) != 4 and not (2010 < passport.byr < 2020):\n",
    "        return False\n",
    "    if len(passport.eyr) != 4 and not (2020 < passport.byr < 2030):\n",
    "        return False\n",
    "    if 'cm' in passport.hgt:\n",
    "        if not (150 < int(passport.hgt.strip('cm')) < 193):\n",
    "            return False\n",
    "    \n",
    "    if 'in' in passport.hgt:\n",
    "        if not (59 < int(passport.hgt.strip('in')) < 76):\n",
    "            return False\n",
    "    if not re.search(r'^#(?:[0-9a-fA-F]{3}){1,2}$', passport.hcl):\n",
    "        return False\n",
    "    if passport.ecl not in ['amb', 'blu', 'brn', 'gry', 'grn', 'hzl', 'oth']:\n",
    "        return False\n",
    "    if len(passport.pid) != 9:\n",
    "        return False\n",
    "    return True\n",
    "      "
   ]
  },
  {
   "cell_type": "code",
   "execution_count": 48,
   "metadata": {},
   "outputs": [
    {
     "name": "stdout",
     "output_type": "stream",
     "text": [
      "hgt\n",
      "byr\n",
      "pid\n",
      "byr\n",
      "eyr\n",
      "byr\n",
      "eyr\n",
      "iyr\n",
      "hcl\n",
      "eyr\n",
      "ecl\n",
      "pid\n",
      "hcl\n",
      "eyr\n",
      "iyr\n",
      "hcl\n",
      "ecl\n",
      "hcl\n",
      "byr\n",
      "byr\n",
      "eyr\n",
      "eyr\n",
      "pid\n",
      "iyr\n",
      "hgt\n",
      "ecl\n",
      "pid\n",
      "ecl\n",
      "ecl\n",
      "iyr\n",
      "eyr\n",
      "byr\n",
      "iyr\n",
      "ecl\n",
      "pid\n",
      "hgt\n",
      "ecl\n",
      "byr\n",
      "hgt\n",
      "hcl\n",
      "ecl\n",
      "pid\n",
      "iyr\n",
      "ecl\n",
      "byr\n",
      "hgt\n",
      "eyr\n",
      "eyr\n",
      "hcl\n",
      "eyr\n",
      "hcl\n",
      "byr\n"
     ]
    }
   ],
   "source": [
    "valid_with_rules = [validate_passport(generate_passport(passport_string=x)) for x in passports]"
   ]
  },
  {
   "cell_type": "code",
   "execution_count": 50,
   "metadata": {},
   "outputs": [
    {
     "data": {
      "text/plain": [
       "172"
      ]
     },
     "execution_count": 50,
     "metadata": {},
     "output_type": "execute_result"
    }
   ],
   "source": [
    "sum(valid_with_rules)"
   ]
  },
  {
   "cell_type": "code",
   "execution_count": null,
   "metadata": {},
   "outputs": [],
   "source": []
  }
 ],
 "metadata": {
  "kernelspec": {
   "display_name": "Python 3",
   "language": "python",
   "name": "python3"
  },
  "language_info": {
   "codemirror_mode": {
    "name": "ipython",
    "version": 3
   },
   "file_extension": ".py",
   "mimetype": "text/x-python",
   "name": "python",
   "nbconvert_exporter": "python",
   "pygments_lexer": "ipython3",
   "version": "3.8.2"
  }
 },
 "nbformat": 4,
 "nbformat_minor": 2
}
