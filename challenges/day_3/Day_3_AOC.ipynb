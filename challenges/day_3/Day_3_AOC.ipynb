{
 "cells": [
  {
   "cell_type": "markdown",
   "metadata": {},
   "source": [
    "# Day 3 - Advent of Code 2020"
   ]
  },
  {
   "cell_type": "markdown",
   "metadata": {},
   "source": [
    "### Part 1"
   ]
  },
  {
   "cell_type": "markdown",
   "metadata": {},
   "source": [
    "First we need to load in our data. I am thinking the best way to store this data would be a 2D array. That was getting the value of an spot in simple. I am also going to make a enum to make things easier to read"
   ]
  },
  {
   "cell_type": "code",
   "execution_count": 40,
   "metadata": {},
   "outputs": [],
   "source": [
    "from enum import Enum\n",
    "class SnowfieldObject(Enum):\n",
    "    SNOW = '.'\n",
    "    TREE = '#'"
   ]
  },
  {
   "cell_type": "code",
   "execution_count": 41,
   "metadata": {},
   "outputs": [],
   "source": [
    "fh = open('data.txt', 'r')"
   ]
  },
  {
   "cell_type": "code",
   "execution_count": 42,
   "metadata": {},
   "outputs": [],
   "source": [
    "snow_field = []"
   ]
  },
  {
   "cell_type": "code",
   "execution_count": 43,
   "metadata": {},
   "outputs": [],
   "source": [
    "for data in fh.readlines():\n",
    "    row = list(data.split('\\n')[0])\n",
    "    converted_row = [SnowfieldObject(x) for x in row]\n",
    "    snow_field.append(converted_row)"
   ]
  },
  {
   "cell_type": "markdown",
   "metadata": {},
   "source": [
    "Since we know this landscape keeps going all the way to the right forever, we want a way of give a very far right co-ordinate, and getting the value. To do this we are going to write a function that take in the map, and the co-ordinate, and uses modular arithmatic to return the value"
   ]
  },
  {
   "cell_type": "code",
   "execution_count": 60,
   "metadata": {},
   "outputs": [],
   "source": [
    "def get_value_for_coordinate(snow_field, down_pos, right_pos):\n",
    "    row = snow_field[down_pos]\n",
    "    value = row[right_pos % len(row)]\n",
    "    return value.value"
   ]
  },
  {
   "cell_type": "code",
   "execution_count": 61,
   "metadata": {},
   "outputs": [],
   "source": [
    "RIGHT_MOVEMENT = 3\n",
    "DOWN_MOVEMENT = 1"
   ]
  },
  {
   "cell_type": "code",
   "execution_count": 62,
   "metadata": {},
   "outputs": [],
   "source": [
    "from collections import Counter\n",
    "down_pos = 0\n",
    "right_pos = 0\n",
    "object_counter = Counter()\n",
    "while down_pos < len(snow_field):\n",
    "    object_counter.update(get_value_for_coordinate(snow_field=snow_field,\n",
    "                                                  down_pos=down_pos, right_pos=right_pos))\n",
    "    down_pos += DOWN_MOVEMENT\n",
    "    right_pos += RIGHT_MOVEMENT"
   ]
  },
  {
   "cell_type": "code",
   "execution_count": 64,
   "metadata": {},
   "outputs": [
    {
     "data": {
      "text/plain": [
       "Counter({'.': 79, '#': 244})"
      ]
     },
     "execution_count": 64,
     "metadata": {},
     "output_type": "execute_result"
    }
   ],
   "source": [
    "object_counter"
   ]
  },
  {
   "cell_type": "code",
   "execution_count": null,
   "metadata": {},
   "outputs": [],
   "source": []
  }
 ],
 "metadata": {
  "kernelspec": {
   "display_name": "Python 3",
   "language": "python",
   "name": "python3"
  },
  "language_info": {
   "codemirror_mode": {
    "name": "ipython",
    "version": 3
   },
   "file_extension": ".py",
   "mimetype": "text/x-python",
   "name": "python",
   "nbconvert_exporter": "python",
   "pygments_lexer": "ipython3",
   "version": "3.8.2"
  }
 },
 "nbformat": 4,
 "nbformat_minor": 2
}
