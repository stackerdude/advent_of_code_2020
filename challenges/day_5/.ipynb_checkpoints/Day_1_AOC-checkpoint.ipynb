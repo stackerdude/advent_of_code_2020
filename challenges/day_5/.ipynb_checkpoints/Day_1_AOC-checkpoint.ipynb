{
 "cells": [
  {
   "cell_type": "markdown",
   "metadata": {},
   "source": [
    "# Day 1 - Advent of Code 2020"
   ]
  },
  {
   "cell_type": "markdown",
   "metadata": {},
   "source": [
    "### Part 1"
   ]
  },
  {
   "cell_type": "markdown",
   "metadata": {},
   "source": [
    "First we need to load in our data. We are just going to use a txt file for this"
   ]
  },
  {
   "cell_type": "code",
   "execution_count": 1,
   "metadata": {},
   "outputs": [],
   "source": [
    "fh = open('data.txt', 'r')"
   ]
  },
  {
   "cell_type": "markdown",
   "metadata": {},
   "source": [
    "Load the data into an array"
   ]
  },
  {
   "cell_type": "code",
   "execution_count": 2,
   "metadata": {},
   "outputs": [],
   "source": [
    "data = [(x.strip('\\n')) for x in fh.readlines()]"
   ]
  },
  {
   "cell_type": "code",
   "execution_count": 3,
   "metadata": {},
   "outputs": [
    {
     "data": {
      "text/plain": [
       "['FBFBFFBRLL',\n",
       " 'BFBFBFFRLR',\n",
       " 'BFFBFBFRLL',\n",
       " 'FFBFFFBRLL',\n",
       " 'BFBFFFFLRR',\n",
       " 'BFBFBFBRRL',\n",
       " 'BFBFFFBLRL',\n",
       " 'BFFBBBBRLR',\n",
       " 'BFFBFFFLRL']"
      ]
     },
     "execution_count": 3,
     "metadata": {},
     "output_type": "execute_result"
    }
   ],
   "source": [
    "data[1:10]"
   ]
  },
  {
   "cell_type": "markdown",
   "metadata": {},
   "source": [
    "We are going to try and be good programmers and do this with recursion. In my head, the function will take in whats left of the seat string, and the current reamining seats. We could be super fancy and write one functions that handles both row and colunnmn calculations, but that would need to much paramaterisation\n",
    "\n",
    ".... I take that back, im going to try it using a paramaterisation "
   ]
  },
  {
   "cell_type": "code",
   "execution_count": 4,
   "metadata": {},
   "outputs": [],
   "source": [
    "\n",
    "\n",
    "def find_row(seat_string, rows_lower, rows_upper, split_left, split_right):\n",
    "    if seat_string:\n",
    "        if seat_string[0] == split_left:\n",
    "            return find_row(seat_string=seat_string[1:], \n",
    "                            rows_lower=rows_lower, \n",
    "                            rows_upper=int((rows_upper-rows_lower)/2) + rows_lower,\n",
    "                            split_left=split_left,\n",
    "                            split_right=split_right)\n",
    "        if seat_string[0] == split_right:\n",
    "            return find_row(seat_string=seat_string[1:], \n",
    "                            rows_lower=rows_lower + int((rows_upper-rows_lower)/2) + 1, \n",
    "                            rows_upper=rows_upper,\n",
    "                            split_left=split_left,\n",
    "                            split_right=split_right)\n",
    "    else: \n",
    "#         we are done \n",
    "        return rows_lower"
   ]
  },
  {
   "cell_type": "code",
   "execution_count": 5,
   "metadata": {},
   "outputs": [],
   "source": [
    "def seat_values(seats):\n",
    "    vals = []\n",
    "    for seat in seats:\n",
    "        row = find_row(seat[0:7], rows_lower=0, \n",
    "                       rows_upper=127, split_left='F', split_right='B')\n",
    "        col = find_row(seat_string=seat[7:], rows_lower=0, rows_upper=7,\n",
    "                      split_left='L', split_right='R')\n",
    "        vals.append((row*8) + col)\n",
    "    return vals"
   ]
  },
  {
   "cell_type": "code",
   "execution_count": 6,
   "metadata": {},
   "outputs": [],
   "source": [
    "vals = seat_values(data)"
   ]
  },
  {
   "cell_type": "code",
   "execution_count": null,
   "metadata": {},
   "outputs": [],
   "source": [
    "max(vals)"
   ]
  },
  {
   "cell_type": "markdown",
   "metadata": {},
   "source": [
    "### Part 2"
   ]
  },
  {
   "cell_type": "code",
   "execution_count": null,
   "metadata": {},
   "outputs": [],
   "source": [
    "int(63/2)"
   ]
  },
  {
   "cell_type": "code",
   "execution_count": null,
   "metadata": {},
   "outputs": [],
   "source": [
    "for (idx, x) in enumerate(sorted(vals)):\n",
    "    prev = x - 1\n",
    "    prev_prev = x - 2\n",
    "    if (prev_prev in vals) and not (prev in vals):\n",
    "        print(prev)"
   ]
  },
  {
   "cell_type": "code",
   "execution_count": null,
   "metadata": {},
   "outputs": [],
   "source": []
  }
 ],
 "metadata": {
  "kernelspec": {
   "display_name": "Python 3",
   "language": "python",
   "name": "python3"
  },
  "language_info": {
   "codemirror_mode": {
    "name": "ipython",
    "version": 3
   },
   "file_extension": ".py",
   "mimetype": "text/x-python",
   "name": "python",
   "nbconvert_exporter": "python",
   "pygments_lexer": "ipython3",
   "version": "3.8.2"
  }
 },
 "nbformat": 4,
 "nbformat_minor": 2
}
