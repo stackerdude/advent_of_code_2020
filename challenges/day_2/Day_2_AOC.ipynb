{
 "cells": [
  {
   "cell_type": "markdown",
   "metadata": {},
   "source": [
    "# Day 2 - Advent of Code"
   ]
  },
  {
   "cell_type": "markdown",
   "metadata": {},
   "source": [
    "### Part 1"
   ]
  },
  {
   "cell_type": "markdown",
   "metadata": {},
   "source": [
    "Lets read in the csv that contains out opcodes"
   ]
  },
  {
   "cell_type": "code",
   "execution_count": 1,
   "metadata": {},
   "outputs": [],
   "source": [
    "import csv\n",
    "def get_data():\n",
    "    with open('data.txt', 'r') as fh:\n",
    "        csv_reader = csv.reader(fh, delimiter=',')\n",
    "        raw_data = list(csv_reader)[0]\n",
    "        return [int(x) for x in raw_data] # Convert it to an int so we can use it more easily"
   ]
  },
  {
   "cell_type": "code",
   "execution_count": 2,
   "metadata": {},
   "outputs": [],
   "source": [
    "def eval_command(array_position, data):\n",
    "    operations = {1:'+', 2:'*'}\n",
    "    command = operations[data[array_position]]\n",
    "    first_value = data[data[array_position + 1]]\n",
    "    second_value = data[data[array_position + 2]]\n",
    "    final_value = eval(f'{first_value}{command}{second_value}')\n",
    "    save_position = data[array_position + 3]\n",
    "    data[save_position] = final_value\n",
    "    "
   ]
  },
  {
   "cell_type": "code",
   "execution_count": 3,
   "metadata": {},
   "outputs": [],
   "source": [
    "def eval_opcodes(opcode_string):\n",
    "    idx = 0\n",
    "    while opcode_string[idx] != 99:\n",
    "        eval_command(idx, opcode_string)\n",
    "        idx = idx + 4\n"
   ]
  },
  {
   "cell_type": "code",
   "execution_count": 4,
   "metadata": {},
   "outputs": [],
   "source": [
    "data = get_data()\n",
    "# Make the adjustments specified in the task\n",
    "data[1] = 12\n",
    "data[2] = 2\n",
    "output = eval_opcodes(opcode_string = data)"
   ]
  },
  {
   "cell_type": "code",
   "execution_count": 5,
   "metadata": {},
   "outputs": [
    {
     "name": "stdout",
     "output_type": "stream",
     "text": [
      "The value is position 0 is 3716293\n"
     ]
    }
   ],
   "source": [
    "print(f'The value is position 0 is {data[0]}')"
   ]
  },
  {
   "cell_type": "markdown",
   "metadata": {},
   "source": [
    "### Part 2"
   ]
  },
  {
   "cell_type": "markdown",
   "metadata": {},
   "source": [
    "We are going to attempt a brute for solution here, we we try each permutation of value 0-99 for address 1 and 2"
   ]
  },
  {
   "cell_type": "code",
   "execution_count": 6,
   "metadata": {},
   "outputs": [],
   "source": [
    "target = 19690720"
   ]
  },
  {
   "cell_type": "code",
   "execution_count": 7,
   "metadata": {},
   "outputs": [],
   "source": [
    "def find_noun_verb():\n",
    "    for noun in range(100):\n",
    "        for verb in range(100):\n",
    "            data = get_data()\n",
    "            data[1] = noun\n",
    "            data[2] = verb\n",
    "            eval_opcodes(opcode_string=data)\n",
    "            if data[0] == target:\n",
    "                return (noun, verb)\n",
    "            \n"
   ]
  },
  {
   "cell_type": "code",
   "execution_count": 8,
   "metadata": {},
   "outputs": [],
   "source": [
    "noun, verb = find_noun_verb()"
   ]
  },
  {
   "cell_type": "code",
   "execution_count": 9,
   "metadata": {},
   "outputs": [
    {
     "name": "stdout",
     "output_type": "stream",
     "text": [
      "The noun is 64 and the verb is 29\n",
      "The answer is 6429\n"
     ]
    }
   ],
   "source": [
    "print(f'The noun is {noun} and the verb is {verb}')\n",
    "print(f'The answer is {100*noun+verb}')"
   ]
  },
  {
   "cell_type": "code",
   "execution_count": null,
   "metadata": {},
   "outputs": [],
   "source": []
  }
 ],
 "metadata": {
  "kernelspec": {
   "display_name": "Python 3",
   "language": "python",
   "name": "python3"
  },
  "language_info": {
   "codemirror_mode": {
    "name": "ipython",
    "version": 3
   },
   "file_extension": ".py",
   "mimetype": "text/x-python",
   "name": "python",
   "nbconvert_exporter": "python",
   "pygments_lexer": "ipython3",
   "version": "3.7.4"
  }
 },
 "nbformat": 4,
 "nbformat_minor": 2
}
