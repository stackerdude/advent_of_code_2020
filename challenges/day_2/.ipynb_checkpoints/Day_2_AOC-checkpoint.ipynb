{
 "cells": [
  {
   "cell_type": "markdown",
   "metadata": {},
   "source": [
    "# Day 2 - Advent of Code 2020"
   ]
  },
  {
   "cell_type": "markdown",
   "metadata": {},
   "source": [
    "### Part 1"
   ]
  },
  {
   "cell_type": "markdown",
   "metadata": {},
   "source": [
    "First we need to load in our data. We are just going to use a txt file for this"
   ]
  },
  {
   "cell_type": "code",
   "execution_count": 5,
   "metadata": {},
   "outputs": [],
   "source": [
    "fh = open('data.txt', 'r')"
   ]
  },
  {
   "cell_type": "markdown",
   "metadata": {},
   "source": [
    "Load the data into an array"
   ]
  },
  {
   "cell_type": "code",
   "execution_count": 6,
   "metadata": {},
   "outputs": [],
   "source": [
    "data = [x for x in fh.readlines()]"
   ]
  },
  {
   "cell_type": "code",
   "execution_count": 7,
   "metadata": {},
   "outputs": [
    {
     "data": {
      "text/plain": [
       "['1-11 s: sbssswsqsssssrlss\\n',\n",
       " '8-9 b: pbbbbbbkbz\\n',\n",
       " '4-10 w: wwccwcqwdmbktjrxhw\\n',\n",
       " '1-6 x: jvscgqsnt\\n',\n",
       " '1-7 x: xxxxxxcx\\n',\n",
       " '6-10 s: smssssfskssdwvtcss\\n',\n",
       " '6-12 q: qqqqzqqjqfqdqq\\n',\n",
       " '3-7 d: ddwbzbf\\n',\n",
       " '12-14 s: ssdssssssssmsq\\n']"
      ]
     },
     "execution_count": 7,
     "metadata": {},
     "output_type": "execute_result"
    }
   ],
   "source": [
    "data[1:10]"
   ]
  },
  {
   "cell_type": "markdown",
   "metadata": {},
   "source": [
    "We want to start by writing a function that will parse each line and pull out the useful data. To make the easier we are going to define a dataclass to represent each entry "
   ]
  },
  {
   "cell_type": "code",
   "execution_count": 9,
   "metadata": {},
   "outputs": [],
   "source": [
    "from dataclasses import dataclass\n",
    "\n",
    "@dataclass\n",
    "class CorruptedPassword:\n",
    "    min_reps: int # min and max are reserved words in python, hence the strange name\n",
    "    max_reps: int\n",
    "    letter: str\n",
    "    password: str"
   ]
  },
  {
   "cell_type": "markdown",
   "metadata": {},
   "source": [
    "To prase the string, we are going to first split on spaces, then split on `-` to get the min and max"
   ]
  },
  {
   "cell_type": "code",
   "execution_count": 46,
   "metadata": {},
   "outputs": [],
   "source": [
    "def parse_corrupt_password(data) -> CorruptedPassword:\n",
    "    split_corrupt = data.split(' ')\n",
    "    rep_range = split_corrupt[0]\n",
    "    letter = split_corrupt[1].strip(':')\n",
    "    password = split_corrupt[2].strip('\\n') # Strip here will remove the \\n\n",
    "    min_max = rep_range.split('-')\n",
    "    corrupted_password = CorruptedPassword(min_reps=int(min_max[0]), max_reps=int(min_max[1]), \n",
    "                                           letter=letter, password=password)\n",
    "    return(corrupted_password)"
   ]
  },
  {
   "cell_type": "markdown",
   "metadata": {},
   "source": [
    "Now we want somthing that can validate each one of `CorruptedPassword` objects. We are gonna keep it simple and use the built on object called a counted that will give us the count of each character in a string"
   ]
  },
  {
   "cell_type": "code",
   "execution_count": 53,
   "metadata": {},
   "outputs": [],
   "source": [
    "from collections import Counter\n",
    "def password_validator(data:CorruptedPassword) -> bool:\n",
    "    pass_cnt = Counter(data.password)\n",
    "    if (data.min_reps <= pass_cnt[data.letter] <= data.max_reps):\n",
    "        return True\n",
    "    return False"
   ]
  },
  {
   "cell_type": "markdown",
   "metadata": {},
   "source": [
    "Now we can glue it all together in a loop"
   ]
  },
  {
   "cell_type": "code",
   "execution_count": 55,
   "metadata": {},
   "outputs": [
    {
     "name": "stdout",
     "output_type": "stream",
     "text": [
      "655\n"
     ]
    }
   ],
   "source": [
    "valid_password = 0\n",
    "for row in data:\n",
    "    if password_validator(parse_corrupt_password(row)):\n",
    "        valid_password += 1\n",
    "print(valid_password)"
   ]
  },
  {
   "cell_type": "markdown",
   "metadata": {},
   "source": [
    "### Part 2"
   ]
  },
  {
   "cell_type": "markdown",
   "metadata": {},
   "source": [
    "With part two, we just need to fix out validator. We could also change the way we make the `CorruptPassword` to fix the index issue we are going to have (where 1 is index 0), but i would prefer to keep the dataclass as a source of truth. I will probally regret this"
   ]
  },
  {
   "cell_type": "code",
   "execution_count": 69,
   "metadata": {},
   "outputs": [],
   "source": [
    "def password_validator_v2(data:CorruptedPassword) -> bool:\n",
    "    pass_cnt = Counter(data.password)\n",
    "    if ((len(data.password) >= data.max_reps - 1) and \n",
    "    ((data.password[data.min_reps - 1] == data.letter) or\n",
    "    (data.password[data.max_reps - 1] == data.letter)) and\n",
    "    not ((data.password[data.min_reps - 1] == data.letter) and\n",
    "    (data.password[data.max_reps - 1] == data.letter))):\n",
    "        return True\n",
    "    return False"
   ]
  },
  {
   "cell_type": "code",
   "execution_count": 70,
   "metadata": {},
   "outputs": [
    {
     "name": "stdout",
     "output_type": "stream",
     "text": [
      "840\n"
     ]
    }
   ],
   "source": [
    "valid_password = 0\n",
    "for row in data:\n",
    "    if password_validator_v2(parse_corrupt_password(row)):\n",
    "        valid_password += 1\n",
    "print(valid_password)"
   ]
  },
  {
   "cell_type": "code",
   "execution_count": 71,
   "metadata": {},
   "outputs": [
    {
     "data": {
      "text/plain": [
       "True"
      ]
     },
     "execution_count": 71,
     "metadata": {},
     "output_type": "execute_result"
    }
   ],
   "source": [
    "password_validator_v2(parse_corrupt_password('1-3 a: abcde'))"
   ]
  },
  {
   "cell_type": "code",
   "execution_count": null,
   "metadata": {},
   "outputs": [],
   "source": []
  }
 ],
 "metadata": {
  "kernelspec": {
   "display_name": "Python 3",
   "language": "python",
   "name": "python3"
  },
  "language_info": {
   "codemirror_mode": {
    "name": "ipython",
    "version": 3
   },
   "file_extension": ".py",
   "mimetype": "text/x-python",
   "name": "python",
   "nbconvert_exporter": "python",
   "pygments_lexer": "ipython3",
   "version": "3.8.2"
  }
 },
 "nbformat": 4,
 "nbformat_minor": 2
}
